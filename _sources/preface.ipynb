{
 "cells": [
  {
   "cell_type": "markdown",
   "id": "reliable-indie",
   "metadata": {},
   "source": [
    "# Preface"
   ]
  },
  {
   "cell_type": "code",
   "execution_count": 1,
   "id": "rapid-virus",
   "metadata": {
    "tags": [
     "hide-input"
    ]
   },
   "outputs": [
    {
     "data": {
      "text/plain": [
       "'0.12.0'"
      ]
     },
     "metadata": {
      "scrapbook": {
       "mime_prefix": "application/papermill.record/",
       "name": "fwdpy11_version"
      }
     },
     "output_type": "display_data"
    }
   ],
   "source": [
    "from myst_nb import glue\n",
    "import fwdpy11\n",
    "fp11_version = fwdpy11.__version__\n",
    "glue(\"fwdpy11_version\", fp11_version, display=False)"
   ]
  },
  {
   "cell_type": "markdown",
   "id": "radio-arena",
   "metadata": {},
   "source": [
    "This book provides additional recipes for the [fwdpy11](https://github.com/molpopgen/fwdpy11) simulation software.\n",
    "The recipes complement examples found in the [primary documentation](https://fwdpy11.readthedocs.io).\n",
    "Some recipes may be repeated here.\n",
    "\n",
    "The contents of this book are generated using `fwdpy11` version {glue:}`fwdpy11_version`.\n",
    "\n",
    "\n",
    "\n",
    "```{toctree}\n",
    ":hidden:\n",
    ":titlesonly:\n",
    ":caption: Introduction\n",
    "\n",
    "introduction\n",
    "```\n",
    "\n",
    "\n",
    "```{toctree}\n",
    ":hidden:\n",
    ":titlesonly:\n",
    ":caption: Setting up the genetics\n",
    "\n",
    "des\n",
    "recombination\n",
    "```\n",
    "\n",
    "\n",
    "```{toctree}\n",
    ":hidden:\n",
    ":titlesonly:\n",
    ":caption: Demography\n",
    "\n",
    "discretedemography\n",
    "```\n",
    "\n",
    "\n",
    "```{toctree}\n",
    ":hidden:\n",
    ":titlesonly:\n",
    ":caption: Processing simulations\n",
    "\n",
    "timeseries\n",
    "```\n",
    "\n",
    "\n",
    "```{toctree}\n",
    ":hidden:\n",
    ":titlesonly:\n",
    ":caption: Extending fwdpy11 with C++\n",
    "\n",
    "extendingwithcpp\n",
    "extendingwithcpp/cpptimeseries\n",
    "extendingwithcpp/cmake\n",
    "```"
   ]
  }
 ],
 "metadata": {
  "jupytext": {
   "formats": "md:myst",
   "text_representation": {
    "extension": ".md",
    "format_name": "myst"
   }
  },
  "kernelspec": {
   "display_name": "Python 3",
   "language": "python",
   "name": "python3"
  },
  "language_info": {
   "codemirror_mode": {
    "name": "ipython",
    "version": 3
   },
   "file_extension": ".py",
   "mimetype": "text/x-python",
   "name": "python",
   "nbconvert_exporter": "python",
   "pygments_lexer": "ipython3",
   "version": "3.8.7"
  },
  "source_map": [
   11,
   15,
   21
  ]
 },
 "nbformat": 4,
 "nbformat_minor": 5
}