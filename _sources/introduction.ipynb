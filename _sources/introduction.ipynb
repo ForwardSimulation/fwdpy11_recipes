{
 "cells": [
  {
   "cell_type": "markdown",
   "id": "social-dictionary",
   "metadata": {},
   "source": [
    "# Background information"
   ]
  },
  {
   "cell_type": "code",
   "execution_count": 1,
   "id": "descending-exclusion",
   "metadata": {
    "tags": [
     "remove-cell"
    ]
   },
   "outputs": [],
   "source": [
    "# Make sure we can import fp11recipes\n",
    "import sys\n",
    "sys.path.append(\"..\")"
   ]
  },
  {
   "cell_type": "markdown",
   "id": "legitimate-chase",
   "metadata": {},
   "source": [
    "Modern Python\n",
    "------------------------------------------------------\n",
    "\n",
    "The examples in this book use several modern Python features:\n",
    "\n",
    "* Functions are defined with [type hints](https://docs.python.org/3/library/typing.html).\n",
    "* Class definitions usually use [attrs](https://www.attrs.org).\n",
    "\n",
    "Key imports\n",
    "------------------------------------------------------\n",
    "\n",
    "The following imports will be used throughout the book:"
   ]
  },
  {
   "cell_type": "code",
   "execution_count": 2,
   "id": "fewer-minutes",
   "metadata": {},
   "outputs": [],
   "source": [
    "import typing\n",
    "\n",
    "import matplotlib.pyplot as plt\n",
    "import numpy as np\n",
    "import pandas as pd\n",
    "import seaborn as sns\n",
    "\n",
    "import attr\n",
    "import fp11recipes\n",
    "import fwdpy11"
   ]
  },
  {
   "cell_type": "markdown",
   "id": "dedicated-competition",
   "metadata": {},
   "source": [
    "The `fp11recipes` is a small Python module included with the [source code](https://github.com/ForwardSimulation/fwdpy11_recipes) for this book."
   ]
  }
 ],
 "metadata": {
  "jupytext": {
   "formats": "md:myst",
   "text_representation": {
    "extension": ".md",
    "format_name": "myst"
   }
  },
  "kernelspec": {
   "display_name": "Python 3",
   "language": "python",
   "name": "python3"
  },
  "language_info": {
   "codemirror_mode": {
    "name": "ipython",
    "version": 3
   },
   "file_extension": ".py",
   "mimetype": "text/x-python",
   "name": "python",
   "nbconvert_exporter": "python",
   "pygments_lexer": "ipython3",
   "version": "3.8.7"
  },
  "source_map": [
   11,
   15,
   20,
   35,
   46
  ]
 },
 "nbformat": 4,
 "nbformat_minor": 5
}